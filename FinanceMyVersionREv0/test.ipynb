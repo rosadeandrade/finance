{
 "cells": [
  {
   "cell_type": "code",
   "execution_count": 1,
   "metadata": {},
   "outputs": [
    {
     "name": "stderr",
     "output_type": "stream",
     "text": [
      "C:\\Users\\rosan\\AppData\\Local\\Temp\\ipykernel_22464\\2785438603.py:3: UserWarning: \n",
      "The dash_core_components package is deprecated. Please replace\n",
      "`import dash_core_components as dcc` with `from dash import dcc`\n",
      "  import dash_core_components as dcc\n"
     ]
    }
   ],
   "source": [
    "import dash\n",
    "from dash import html\n",
    "import dash_core_components as dcc\n",
    "from dash.dependencies import Input, Output\n",
    "\n",
    "app = dash.Dash(__name__)\n",
    "\n",
    "app.layout = html.Div([\n",
    "    dcc.Input(id='input', value='initial value', type='text'),\n",
    "    html.Div(id='output')\n",
    "])\n"
   ]
  },
  {
   "cell_type": "code",
   "execution_count": 2,
   "metadata": {},
   "outputs": [
    {
     "data": {
      "text/html": [
       "\n",
       "        <iframe\n",
       "            width=\"100%\"\n",
       "            height=\"650\"\n",
       "            src=\"http://127.0.0.1:8050/\"\n",
       "            frameborder=\"0\"\n",
       "            allowfullscreen\n",
       "            \n",
       "        ></iframe>\n",
       "        "
      ],
      "text/plain": [
       "<IPython.lib.display.IFrame at 0x15b232fcbc0>"
      ]
     },
     "metadata": {},
     "output_type": "display_data"
    }
   ],
   "source": [
    "\n",
    "@app.callback(\n",
    "    Output('output', 'children'),\n",
    "    [Input('input', 'value')]\n",
    ")\n",
    "def update_output(value):\n",
    "    return f'You have entered: {value}'\n",
    "\n",
    "if __name__ == '__main__':\n",
    "    app.run_server(debug=True)\n"
   ]
  },
  {
   "cell_type": "code",
   "execution_count": 11,
   "metadata": {},
   "outputs": [
    {
     "name": "stdout",
     "output_type": "stream",
     "text": [
      "2022-04-05\n",
      "2022-04-05\n",
      "2022-04-11\n",
      "2022-04-18\n",
      "2022-04-14\n",
      "2022-04-14\n",
      "nan\n",
      "2022-04-18\n"
     ]
    }
   ],
   "source": [
    "for i in df_despesas['Data']:\n",
    "    print(i)"
   ]
  },
  {
   "cell_type": "code",
   "execution_count": 17,
   "metadata": {},
   "outputs": [
    {
     "data": {
      "text/plain": [
       "0    2022-04-05\n",
       "1    2022-04-05\n",
       "2    2022-04-11\n",
       "3    2022-04-18\n",
       "4    2022-04-14\n",
       "5    2022-04-14\n",
       "6    2022-04-15\n",
       "7    2022-04-18\n",
       "Name: Data, dtype: object"
      ]
     },
     "execution_count": 17,
     "metadata": {},
     "output_type": "execute_result"
    }
   ],
   "source": [
    "df_despesas['Data'] = df_despesas['Data'].replace({'nan': '2022-04-15'})\n",
    "df_despesas['Data'] = df_despesas['Data'].fillna('2022-04-15')\n",
    "df_despesas['Data']"
   ]
  },
  {
   "cell_type": "code",
   "execution_count": 18,
   "metadata": {},
   "outputs": [
    {
     "data": {
      "text/plain": [
       "DataTable(data=[{'Unnamed: 0': 3, 'Valor': 100.0, 'Efetuado': 1, 'Fixo': 0, 'Data': datetime.date(2022, 4, 18), 'Categoria': 'Gasolina', 'Descrição': 'Gasolina'}, {'Unnamed: 0': 7, 'Valor': 200.0, 'Efetuado': 1, 'Fixo': 0, 'Data': datetime.date(2022, 4, 18), 'Categoria': 'Lazer', 'Descrição': 'PetShop'}, {'Unnamed: 0': 6, 'Valor': 30.0, 'Efetuado': 1, 'Fixo': 0, 'Data': datetime.date(2022, 4, 15), 'Categoria': 'Lazer', 'Descrição': 'Cinema'}, {'Unnamed: 0': 4, 'Valor': 100.0, 'Efetuado': 1, 'Fixo': 0, 'Data': datetime.date(2022, 4, 14), 'Categoria': 'Gasolina', 'Descrição': 'Gasolina'}, {'Unnamed: 0': 5, 'Valor': 120.0, 'Efetuado': 1, 'Fixo': 0, 'Data': datetime.date(2022, 4, 14), 'Categoria': 'Saúde', 'Descrição': 'Academia'}, {'Unnamed: 0': 2, 'Valor': 100.0, 'Efetuado': 1, 'Fixo': 0, 'Data': datetime.date(2022, 4, 11), 'Categoria': 'Gasolina', 'Descrição': 'Gasolina'}, {'Unnamed: 0': 0, 'Valor': 2500.0, 'Efetuado': 1, 'Fixo': 0, 'Data': datetime.date(2022, 4, 5), 'Categoria': 'Aluguel', 'Descrição': 'Aluguel'}, {'Unnamed: 0': 1, 'Valor': 100.0, 'Efetuado': 1, 'Fixo': 0, 'Data': datetime.date(2022, 4, 5), 'Categoria': 'Gasolina', 'Descrição': 'Gasolina'}], columns=[{'name': 'Unnamed: 0', 'id': 'Unnamed: 0'}, {'name': 'Valor', 'id': 'Valor'}, {'name': 'Efetuado', 'id': 'Efetuado'}, {'name': 'Fixo', 'id': 'Fixo'}, {'name': 'Data', 'id': 'Data'}, {'name': 'Categoria', 'id': 'Categoria'}, {'name': 'Descrição', 'id': 'Descrição'}])"
      ]
     },
     "execution_count": 18,
     "metadata": {},
     "output_type": "execute_result"
    }
   ],
   "source": [
    "imprimir_tabela(df_despesas)"
   ]
  }
 ],
 "metadata": {
  "kernelspec": {
   "display_name": "Python 3",
   "language": "python",
   "name": "python3"
  },
  "language_info": {
   "codemirror_mode": {
    "name": "ipython",
    "version": 3
   },
   "file_extension": ".py",
   "mimetype": "text/x-python",
   "name": "python",
   "nbconvert_exporter": "python",
   "pygments_lexer": "ipython3",
   "version": "3.12.1"
  }
 },
 "nbformat": 4,
 "nbformat_minor": 2
}
